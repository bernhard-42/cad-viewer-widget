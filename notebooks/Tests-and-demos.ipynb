{
 "cells": [
  {
   "cell_type": "markdown",
   "id": "300fc4db-7af9-4dca-beb0-39fe0b30d418",
   "metadata": {},
   "source": [
    "# The Viewer"
   ]
  },
  {
   "cell_type": "code",
   "execution_count": null,
   "id": "e54596f1-61d6-4704-90de-a405f8fe6b00",
   "metadata": {},
   "outputs": [],
   "source": [
    "import numpy as np\n",
    "import json\n",
    "import time\n",
    "import ipywidgets as widgets\n",
    "from cad_viewer_widget import (\n",
    "    AnimationTrack, CadViewer, show, open_viewer, \n",
    "    get_sidecar, get_sidecars, close_sidecar, close_sidecars, get_default_sidecar, set_default_sidecar,\n",
    ")\n",
    "\n",
    "from cad_viewer_widget.utils import numpyify\n",
    "\n",
    "names = [\n",
    "    \"b123d_assembly\",\n",
    "    \"box1\",\n",
    "    \"boxes\",\n",
    "    \"dirbox\",\n",
    "    \"edges\",\n",
    "    \"faces\",\n",
    "    \"hexapod\",\n",
    "    \"orientbox\",\n",
    "    \"profile4040\",\n",
    "    \"single_edges\",\n",
    "    \"torus_knot\",\n",
    "]\n",
    "objects = {}\n",
    "states = {}\n",
    "\n",
    "for name in names:\n",
    "    with open(f\"../examples/{name}.json\", \"r\") as fd:\n",
    "        objects[name] = numpyify(json.load(fd))\n"
   ]
  },
  {
   "cell_type": "code",
   "execution_count": null,
   "id": "f1137c32-145c-45d5-95d8-0199cc4b6dc3",
   "metadata": {},
   "outputs": [],
   "source": [
    "cv = open_viewer(\"Test\")"
   ]
  },
  {
   "cell_type": "code",
   "execution_count": null,
   "id": "b5da9e3e-b160-4db8-b683-da60aacd9938",
   "metadata": {},
   "outputs": [],
   "source": [
    "name = \"boxes\"\n",
    "cv = show(    \n",
    "    objects[name], \n",
    "    glass=True,\n",
    "    tools=True,\n",
    "    grid=(True, False, True),\n",
    "    title=\"CVW 1\",\n",
    "    anchor=\"right\",\n",
    "    height=500,\n",
    "    cad_width=700,\n",
    "    debug=True,\n",
    ")"
   ]
  },
  {
   "cell_type": "code",
   "execution_count": null,
   "id": "9e009e75-cb03-4e34-875f-df4b662f27c6",
   "metadata": {},
   "outputs": [],
   "source": []
  },
  {
   "cell_type": "code",
   "execution_count": null,
   "id": "b4e25cfc-b9d3-489f-9975-31a4cf5e3e9f",
   "metadata": {},
   "outputs": [],
   "source": [
    "cv.status()"
   ]
  },
  {
   "cell_type": "code",
   "execution_count": null,
   "id": "264a73d0-a13d-4947-b760-60ff104ce772",
   "metadata": {},
   "outputs": [],
   "source": [
    "cv.widget.id"
   ]
  },
  {
   "cell_type": "code",
   "execution_count": null,
   "id": "e487b2fc-7ebc-4c0a-9fde-399f695988b2",
   "metadata": {},
   "outputs": [],
   "source": [
    "cv.widget.selectedShapeIDs, cv.widget.activeTool"
   ]
  },
  {
   "cell_type": "code",
   "execution_count": null,
   "id": "2d1aede2-8f9b-4f0e-9be2-662fa06abfde",
   "metadata": {},
   "outputs": [],
   "source": [
    "# theme=OK,\n",
    "# glass=OK,\n",
    "# tools=OK,\n",
    "# pinning=OK,\n",
    "#     #\n",
    "#     # render options\n",
    "# normal_len=OK,\n",
    "# default_edgecolor=OK,\n",
    "# default_opacity=OK,\n",
    "# ambient_intensity=OK,\n",
    "# direct_intensity=OK,\n",
    "# metalness=OK,\n",
    "# roughness=OK,\n",
    "#     #\n",
    "#     # add_shapes options\n",
    "# up=OK,\n",
    "# control=OK,\n",
    "# ortho=OK,\n",
    "# axes=OK,\n",
    "# axes0=OK,\n",
    "# grid=OK,\n",
    "# center_grid=OK,\n",
    "# explode=OK,\n",
    "# ticks=OK,\n",
    "# transparent=OK,\n",
    "# black_edges=OK,\n",
    "# collapse=OK,\n",
    "# reset_camera=OK,\n",
    "# clip_slider_0=OK,\n",
    "# clip_slider_1=OK,\n",
    "# clip_slider_2=OK,\n",
    "# clip_normal_0=OK,\n",
    "# clip_normal_1=OK,\n",
    "# clip_normal_2=OK,\n",
    "# clip_intersection=OK,\n",
    "# clip_planes=OK,\n",
    "# clip_object_colors=OK,\n",
    "# position=OK,\n",
    "# quaternion=OK,\n",
    "# target=OK,\n",
    "# zoom=OK,\n",
    "# zoom_speed=OK,\n",
    "# pan_speed=OK,\n",
    "# rotate_speed=OK,\n",
    "#     timeit=FAIL,\n",
    "# debug=OK,"
   ]
  },
  {
   "cell_type": "code",
   "execution_count": null,
   "id": "a2703227-2e42-4a6b-a9cc-ee1bb38b3f52",
   "metadata": {},
   "outputs": [],
   "source": [
    "cv.widget.cad_width, cv.widget.height"
   ]
  },
  {
   "cell_type": "code",
   "execution_count": null,
   "id": "bb2624b8-24de-4d1f-baa0-0cee3f0ff76c",
   "metadata": {},
   "outputs": [],
   "source": [
    "name = \"hexapod\"\n",
    "cv2 = show(\n",
    "    objects[name],\n",
    "    title=\"CVW 2\",\n",
    "    collapse=\"1\",\n",
    "    anchor=\"split-right\",\n",
    "    cad_width=1200,\n",
    "    glass=True,\n",
    "    reset_camera=\"reset\"\n",
    ")"
   ]
  },
  {
   "cell_type": "code",
   "execution_count": null,
   "id": "010ede0a-ffbf-4652-be5d-70923ce2df28",
   "metadata": {},
   "outputs": [],
   "source": [
    "get_sidecars()"
   ]
  },
  {
   "cell_type": "code",
   "execution_count": null,
   "id": "8c457d00-b1e6-4ac8-9142-a157b5bda562",
   "metadata": {},
   "outputs": [],
   "source": [
    "cv2.widget.cad_width, cv2.widget.height"
   ]
  },
  {
   "cell_type": "code",
   "execution_count": null,
   "id": "6871a8de-a3d5-4dc6-8569-ac2c69087f89",
   "metadata": {},
   "outputs": [],
   "source": [
    "cv.widget.cad_width, cv.widget.height"
   ]
  },
  {
   "cell_type": "code",
   "execution_count": null,
   "id": "4915f84e-bb04-4aa5-b305-75cf2d7de7dd",
   "metadata": {},
   "outputs": [],
   "source": [
    "cv.close()\n",
    "cv2.close()"
   ]
  },
  {
   "cell_type": "code",
   "execution_count": null,
   "id": "18009708-6fb4-480c-9bf0-f63ff6063775",
   "metadata": {},
   "outputs": [],
   "source": [
    "get_sidecars()"
   ]
  },
  {
   "cell_type": "markdown",
   "id": "04a3c1df-a49a-4765-8552-673a2429484d",
   "metadata": {},
   "source": [
    "## Cell view"
   ]
  },
  {
   "cell_type": "code",
   "execution_count": null,
   "id": "78fdf9c0-e275-4ded-be2c-a16edc6c0bc0",
   "metadata": {},
   "outputs": [],
   "source": [
    "name = \"boxes\"\n",
    "#control = \"trackball\"\n",
    "control = \"orbit\"\n",
    "\n",
    "cv = show(\n",
    "    objects[name], \n",
    "    control=control,\n",
    "    up=\"Z\",\n",
    "    cad_width=750,\n",
    "    tree_width=250,\n",
    "    height=500,\n",
    "    glass=True,\n",
    "    debug=False,\n",
    "    collapse=\"1\",\n",
    "    theme=\"browser\",\n",
    ")"
   ]
  },
  {
   "cell_type": "markdown",
   "id": "58c97457-bdb4-4699-a35e-e4010afdbc77",
   "metadata": {},
   "source": [
    "## Exports\n",
    "\n",
    "**Modify view before exporting**"
   ]
  },
  {
   "cell_type": "code",
   "execution_count": null,
   "id": "1bce7ac1-ab98-47a4-ae5a-c9e5c4727789",
   "metadata": {},
   "outputs": [],
   "source": [
    "cv.export_png(\"boxes2.png\")"
   ]
  },
  {
   "cell_type": "code",
   "execution_count": null,
   "id": "115f7fb2-5a84-401c-9672-8cc1e51446cc",
   "metadata": {},
   "outputs": [],
   "source": [
    "cv.export_html()"
   ]
  },
  {
   "cell_type": "markdown",
   "id": "3a70f989-339a-4994-9a4d-5074b542ef2a",
   "metadata": {},
   "source": [
    "**Pin as PNG**"
   ]
  },
  {
   "cell_type": "code",
   "execution_count": null,
   "id": "d153a2d3-fdae-4683-ad6e-28ad976e52a4",
   "metadata": {},
   "outputs": [],
   "source": [
    "cv.pin_as_png() # same as pressing the pin top right button"
   ]
  },
  {
   "cell_type": "markdown",
   "id": "1adc86c0-7f97-413e-852f-8abd668f30ca",
   "metadata": {},
   "source": [
    "# Sidecar handling"
   ]
  },
  {
   "cell_type": "markdown",
   "id": "0d213e9d-8ec8-48aa-bb35-da7c1ea5ead7",
   "metadata": {},
   "source": [
    "## openviewer and add_shapes"
   ]
  },
  {
   "cell_type": "code",
   "execution_count": null,
   "id": "6942399f-9309-4555-9a80-e542a2154941",
   "metadata": {},
   "outputs": [],
   "source": [
    "cv1 = open_viewer(\n",
    "    title=\"CVW 1\",\n",
    "    anchor=\"split-right\",\n",
    "    cad_width=750,\n",
    "    tree_width=250,\n",
    "    height=525,\n",
    "    glass=True\n",
    ")"
   ]
  },
  {
   "cell_type": "code",
   "execution_count": null,
   "id": "97f60f6c-9766-4627-bdb8-c74e8395b4cf",
   "metadata": {},
   "outputs": [],
   "source": [
    "name = \"hexapod\"\n",
    "cv1.add_shapes(\n",
    "    objects[name], \n",
    "    #tools=False,\n",
    "    #ortho=False,\n",
    "    control=\"trackball\",\n",
    "    axes=False,\n",
    "    axes0=False,\n",
    "    grid=(True,True, False),\n",
    "    ticks=10,\n",
    "    transparent=False,\n",
    "    #black_edges=True,\n",
    "\n",
    "    normal_len=2,\n",
    "    default_edgecolor=\"#707070\",\n",
    "    default_opacity=0.5,\n",
    "    ambient_intensity=1.0,\n",
    "    direct_intensity=1.1,\n",
    "\n",
    "#    position = (865.4844022079983, -276.23389988421786, 335.21716816984906),\n",
    "#    quaternion = (0.43557639340677845, 0.3648618806188253, 0.4409953598863984, 0.6947460731351442),\n",
    "#    zoom=0.8,\n",
    "    timeit=False,\n",
    "    reset_camera=\"reset\",\n",
    "    zoom_speed=0.5,\n",
    "    pan_speed=0.5,\n",
    "    rotate_speed=1.0,\n",
    "    debug=True,\n",
    "    up=\"Z\",\n",
    "    explode=True,\n",
    "    \n",
    ")"
   ]
  },
  {
   "cell_type": "code",
   "execution_count": null,
   "id": "ab31ed53-c64c-46f2-8a8a-a34741d8efb2",
   "metadata": {},
   "outputs": [],
   "source": [
    "name = \"boxes\"\n",
    "show(\n",
    "    objects[name], \n",
    "    title=\"CVW 1\",\n",
    "    cad_width=800,\n",
    "    height=600,\n",
    "    glass=True,\n",
    "    up=\"Y\",\n",
    ")"
   ]
  },
  {
   "cell_type": "code",
   "execution_count": null,
   "id": "790ea6a8-e7cf-4009-b4c7-1f870c953619",
   "metadata": {},
   "outputs": [],
   "source": [
    "cv1.close()"
   ]
  },
  {
   "cell_type": "markdown",
   "id": "57678a36-1103-4c96-ae39-f2f79a85921a",
   "metadata": {},
   "source": [
    "## Show command"
   ]
  },
  {
   "cell_type": "code",
   "execution_count": null,
   "id": "25bb9904-f331-43c6-b0c7-4ea9bb74715f",
   "metadata": {},
   "outputs": [],
   "source": [
    "name = \"boxes\"\n",
    "cv2 = show(\n",
    "    objects[name], \n",
    "    title=\"CVW 2\",\n",
    "    anchor=\"split-top\",\n",
    "    \n",
    "    ortho=False,\n",
    "    control=\"orbit\",\n",
    "    axes=True,\n",
    "    grid=(True, False, False),\n",
    "    ticks=40,\n",
    "    # transparent=True,\n",
    "    #black_edges=True,\n",
    "\n",
    "    normal_len=2,\n",
    "    default_edgecolor=\"#f0f0f0\",\n",
    "    default_opacity=0.5,\n",
    "    ambient_intensity=0.5,\n",
    "    direct_intensity=0.3,   \n",
    ")"
   ]
  },
  {
   "cell_type": "code",
   "execution_count": null,
   "id": "00b21406-2294-4e27-ad99-24a12b5bef25",
   "metadata": {},
   "outputs": [],
   "source": [
    "get_sidecars()"
   ]
  },
  {
   "cell_type": "code",
   "execution_count": null,
   "id": "330b67be-198d-4a69-b759-19a3237999e9",
   "metadata": {},
   "outputs": [],
   "source": [
    "cv2.close()"
   ]
  },
  {
   "cell_type": "code",
   "execution_count": null,
   "id": "fde0be32-e5a2-47d1-a6d9-e3cdc23c920f",
   "metadata": {},
   "outputs": [],
   "source": [
    "name = \"box1\"\n",
    "show(    \n",
    "    objects[name],\n",
    "    glass=False,\n",
    "    reset_camera=\"reset\",\n",
    "    title=\"CVW 2\"\n",
    ")"
   ]
  },
  {
   "cell_type": "code",
   "execution_count": null,
   "id": "0a85a650-fa48-410a-b79f-b3c112d33dcf",
   "metadata": {},
   "outputs": [],
   "source": [
    "name = \"hexapod\"\n",
    "cv = show(\n",
    "    objects[name], \n",
    "    title=\"CVW 2\",\n",
    "    collapse=\"R\",\n",
    "    glass=True,\n",
    "    reset_camera=\"reset\"\n",
    ")"
   ]
  },
  {
   "cell_type": "code",
   "execution_count": null,
   "id": "9dc9ab4c-5689-476d-813e-d3e816d9cfb5",
   "metadata": {},
   "outputs": [],
   "source": [
    "import numpy as np\n",
    "\n",
    "# from cad_viewer_widget import AnimationTrack\n",
    "\n",
    "horizontal_angle = 25\n",
    "\n",
    "def intervals(count):\n",
    "    r = [ min(180, (90 + i*(360 // count)) % 360) for i in range(count)]\n",
    "    return r \n",
    "\n",
    "def times(end, count):\n",
    "    return np.linspace(0, end, count+1)\n",
    "    \n",
    "def vertical(count, end, offset, reverse):\n",
    "    ints = intervals(count)\n",
    "    heights = [round(35 * np.sin(np.deg2rad(x)) - 15, 1) for x in ints]\n",
    "    heights.append(heights[0])\n",
    "    return times(end, count), heights[offset:] + heights[1:offset+1]\n",
    "\n",
    "def horizontal(end, reverse):\n",
    "    factor = 1 if reverse else -1\n",
    "    return times(end, 4), [0, factor * horizontal_angle, 0, -factor * horizontal_angle, 0]\n",
    "\n",
    "\n",
    "leg_group = (\"left_front\", \"right_middle\", \"left_back\")\n",
    "leg_names = ['right_back', 'right_middle', 'right_front', 'left_back', 'left_middle', 'left_front']\n",
    "\n",
    "for name in leg_names:\n",
    "    # move upper leg\n",
    "    cv.add_track(AnimationTrack(\n",
    "        f\"/hexapod/{name}_leg\", \n",
    "        \"rz\", *horizontal(4, \"middle\" in name)\n",
    "    ))\n",
    "\n",
    "    # move lower leg\n",
    "    cv.add_track(AnimationTrack(\n",
    "        f\"/hexapod/{name}_leg/{name}_lower_leg\", \n",
    "        \"rz\", *vertical(8, 4, 0 if name in leg_group else 4, \"left\" in name)\n",
    "    ))\n",
    "\n",
    "cv.animate(3)"
   ]
  },
  {
   "cell_type": "code",
   "execution_count": null,
   "id": "f1639c0f-10af-4414-9c2e-b87e765afbbb",
   "metadata": {},
   "outputs": [],
   "source": [
    "cv.close()\n",
    "cv.disposed"
   ]
  },
  {
   "cell_type": "code",
   "execution_count": null,
   "id": "211e2d4e-f12b-46b1-a81e-e22cc119fcf6",
   "metadata": {},
   "outputs": [],
   "source": [
    "get_sidecars()"
   ]
  },
  {
   "cell_type": "markdown",
   "id": "deb41d73-8331-41ac-abd5-0c3c478c07f7",
   "metadata": {},
   "source": [
    "## Use default sidecar"
   ]
  },
  {
   "cell_type": "code",
   "execution_count": null,
   "id": "434d6178-2c52-49ec-a69d-454e07741800",
   "metadata": {},
   "outputs": [],
   "source": [
    "set_default_sidecar(\"CVW 1\")"
   ]
  },
  {
   "cell_type": "code",
   "execution_count": null,
   "id": "f5bfa179-e0b9-48ca-89ce-cd519fc29488",
   "metadata": {},
   "outputs": [],
   "source": [
    "name = \"edges\"\n",
    "cv = show(\n",
    "    objects[name], \n",
    "    height=600,\n",
    "    cad_width=800,\n",
    "    reset_camera=\"reset\",\n",
    "    debug=True\n",
    ")"
   ]
  },
  {
   "cell_type": "code",
   "execution_count": null,
   "id": "e93a5c35-8eb2-4525-90e5-5afb975549f0",
   "metadata": {},
   "outputs": [],
   "source": [
    "name = \"faces\"\n",
    "cv2 = show(\n",
    "    objects[name], \n",
    "    cad_width=1000,    \n",
    "    title=\"CVW 2\"\n",
    ")"
   ]
  },
  {
   "cell_type": "code",
   "execution_count": null,
   "id": "a6aaed86-e0ae-4bd4-94fc-da4c441c20d0",
   "metadata": {},
   "outputs": [],
   "source": [
    "cv.dump_model()"
   ]
  },
  {
   "cell_type": "code",
   "execution_count": null,
   "id": "402dd662-0a3c-4df1-ba1d-2d9fe85e249d",
   "metadata": {},
   "outputs": [],
   "source": [
    "get_sidecars()"
   ]
  },
  {
   "cell_type": "code",
   "execution_count": null,
   "id": "e0a45056-32e7-48a3-b89a-5590e6e9f738",
   "metadata": {},
   "outputs": [],
   "source": [
    "get_sidecar(\"CVW 1\") == cv"
   ]
  },
  {
   "cell_type": "code",
   "execution_count": null,
   "id": "62ed92b0-3e9b-4499-9d99-6c785f88f688",
   "metadata": {},
   "outputs": [],
   "source": [
    "get_sidecar(\"CVW 2\") == cv"
   ]
  },
  {
   "cell_type": "code",
   "execution_count": null,
   "id": "fd9dd77d-1b8b-40f5-9fd5-efa0b4cb0da6",
   "metadata": {},
   "outputs": [],
   "source": [
    "close_sidecars()"
   ]
  },
  {
   "cell_type": "markdown",
   "id": "2154be31-0407-4a87-91b4-100e135c7d08",
   "metadata": {},
   "source": [
    "# Cell Viewer Handling"
   ]
  },
  {
   "cell_type": "code",
   "execution_count": null,
   "id": "d063c889-79be-402a-8230-7936a0ef1c9a",
   "metadata": {},
   "outputs": [],
   "source": [
    "name = \"hexapod\"\n",
    "cv3 = show(\n",
    "    objects[name],\n",
    "    height=600,\n",
    "    cad_width=800,\n",
    "    control=\"trackball\",\n",
    "    tools=True,\n",
    "\n",
    "    axes=True,\n",
    "    axes0=True,\n",
    "    grid=[True, False, True],\n",
    "    transparent=True,\n",
    "    black_edges=True,\n",
    "    ortho=False,\n",
    "    timeit=True,\n",
    "    # normal_len=5,\n",
    ")"
   ]
  },
  {
   "cell_type": "code",
   "execution_count": null,
   "id": "daf89154-8510-45f5-9a56-f8b974dafefc",
   "metadata": {},
   "outputs": [],
   "source": [
    "name = \"faces\"\n",
    "cv4 = show(\n",
    "    objects[name],\n",
    "\n",
    "    cad_width=750,\n",
    "    height=400,\n",
    "    glass=True,\n",
    "    collapse=\"C\",\n",
    "    pinning=True\n",
    ")"
   ]
  },
  {
   "cell_type": "markdown",
   "id": "1b1f540d-5565-4476-8770-a159fde93cf4",
   "metadata": {},
   "source": [
    "# Camera location handling\n",
    "\n",
    "## Trackball controls"
   ]
  },
  {
   "cell_type": "code",
   "execution_count": null,
   "id": "cde735cc-1d0a-4bae-85f3-a0832b03cdbd",
   "metadata": {},
   "outputs": [],
   "source": [
    "name = \"edges\"\n",
    "\n",
    "cv1 = show(\n",
    "    objects[name], \n",
    "    cad_width=800,\n",
    "    title=\"Trackball\",\n",
    "    reset_camera=\"reset\",\n",
    "    debug=True\n",
    ")"
   ]
  },
  {
   "cell_type": "code",
   "execution_count": null,
   "id": "a2e17418-1839-4a2a-abef-d2ebd6e48abe",
   "metadata": {},
   "outputs": [],
   "source": [
    "cv1.position=(96.5764, -1.7474, 37.7064)\n",
    "cv1.quaternion=(0.338779, 0.378157, 0.6416827, 0.574865)\n",
    "cv1.zoom=0.6\n",
    "cv1.target=(6.9493, -11.6226, -12.2272)"
   ]
  },
  {
   "cell_type": "markdown",
   "id": "ca53c38d-301e-40ff-a536-dbc36e6d5413",
   "metadata": {},
   "source": [
    "**Do not reset camera location**"
   ]
  },
  {
   "cell_type": "code",
   "execution_count": null,
   "id": "ed1d338d-aca1-43ed-8ebf-3383bb6a8ec0",
   "metadata": {},
   "outputs": [],
   "source": [
    "name = \"faces\"\n",
    "show(\n",
    "    objects[name], \n",
    "    title=\"Trackball\",\n",
    "    reset_camera=\"keep\"\n",
    ")"
   ]
  },
  {
   "cell_type": "markdown",
   "id": "41b06323-bba8-4631-839b-66be8bbc25fa",
   "metadata": {},
   "source": [
    "**Reset camera location**"
   ]
  },
  {
   "cell_type": "code",
   "execution_count": null,
   "id": "23d9fee3-4366-4f2d-a14f-11e46a94f36c",
   "metadata": {},
   "outputs": [],
   "source": [
    "name = \"faces\"\n",
    "cv = show(\n",
    "    objects[name], \n",
    "    title=\"Trackball\",\n",
    "    reset_camera=\"reset\"\n",
    ")"
   ]
  },
  {
   "cell_type": "markdown",
   "id": "09d8707e-ab05-4069-9232-ae2af2710a64",
   "metadata": {},
   "source": [
    "## Orbit controls"
   ]
  },
  {
   "cell_type": "code",
   "execution_count": null,
   "id": "09de5789-5c04-4038-a79f-c6dad47c2f89",
   "metadata": {},
   "outputs": [],
   "source": [
    "cv = open_viewer(\n",
    "    title=\"Orbit\",\n",
    "    height=525,\n",
    ")"
   ]
  },
  {
   "cell_type": "markdown",
   "id": "2c8bc9ff-48d1-44e5-a414-4da831c42377",
   "metadata": {},
   "source": [
    "**Setting camera location during show will also set the reset location of the camera**"
   ]
  },
  {
   "cell_type": "code",
   "execution_count": null,
   "id": "d65bbda7-b353-474c-8fa1-27349e089063",
   "metadata": {},
   "outputs": [],
   "source": [
    "name = \"edges\"\n",
    "\n",
    "show(\n",
    "    objects[name], \n",
    "    title=\"Orbit\",\n",
    "    control=\"orbit\",\n",
    "    position=(-43.3, 73.7, -39.3),\n",
    "    zoom=0.5,\n",
    "    reset_camera=\"reset\",\n",
    ")\n",
    "cv.position, cv.quaternion, cv.target, cv.zoom"
   ]
  },
  {
   "cell_type": "code",
   "execution_count": null,
   "id": "ff519084-0533-453e-875e-b7a396942b7e",
   "metadata": {},
   "outputs": [],
   "source": [
    "cv.position = (85, 25, 55)\n",
    "cv.target = (0,0,0)\n",
    "cv.zoom = 0.8"
   ]
  },
  {
   "cell_type": "code",
   "execution_count": null,
   "id": "fd856699-fc5e-4588-838e-b0c4d20e4115",
   "metadata": {},
   "outputs": [],
   "source": [
    "cv.position, cv.target, cv.zoom"
   ]
  },
  {
   "cell_type": "markdown",
   "id": "3cce4a83-4ada-4509-9596-4bcd3e4b2a65",
   "metadata": {},
   "source": [
    "**Quaternions with orbit control can be accessed from widget, however, for information only**"
   ]
  },
  {
   "cell_type": "code",
   "execution_count": null,
   "id": "aace0d5a-d527-4087-9cfc-c671f807d1e3",
   "metadata": {},
   "outputs": [],
   "source": [
    "cv.widget.quaternion"
   ]
  },
  {
   "cell_type": "code",
   "execution_count": null,
   "id": "f4f08e8a-8376-4045-9f6c-a87b20aeb466",
   "metadata": {},
   "outputs": [],
   "source": [
    "close_sidecars()"
   ]
  },
  {
   "cell_type": "markdown",
   "id": "4dee49a8-9747-4bdf-ac30-422ef5edc51c",
   "metadata": {},
   "source": [
    "# Property access"
   ]
  },
  {
   "cell_type": "code",
   "execution_count": null,
   "id": "3947d28e-8f1e-41df-bea5-27b63679a7fd",
   "metadata": {},
   "outputs": [],
   "source": [
    "cv = open_viewer(\n",
    "    title = \"Examples\",\n",
    "    anchor=\"right\",\n",
    "    cad_width=700,\n",
    "    height=525,\n",
    "    glass=False\n",
    ")"
   ]
  },
  {
   "cell_type": "code",
   "execution_count": null,
   "id": "2047d07b-2653-479f-b9cc-29b3947d9496",
   "metadata": {},
   "outputs": [],
   "source": [
    "menu = widgets.Dropdown(\n",
    "    options=names,\n",
    "    value=names[0],\n",
    "    description='Number:',\n",
    "    disabled=False,\n",
    ")\n",
    "\n",
    "control = \"trackball\"\n",
    "\n",
    "def on_change(change):\n",
    "    if change['type'] == 'change' and change['name'] == 'value':\n",
    "        name = change['new']\n",
    "        show(    \n",
    "            objects[name],\n",
    "            title=\"Examples\",\n",
    "            control=control,\n",
    "            debug=True\n",
    "        )\n",
    "\n",
    "menu.observe(on_change)\n",
    "\n",
    "show(\n",
    "    objects[names[0]],\n",
    "    title=\"Examples\",\n",
    "    control=control,\n",
    "#    zoom=0.75,\n",
    "    debug=True\n",
    ")\n",
    "menu"
   ]
  },
  {
   "cell_type": "code",
   "execution_count": null,
   "id": "ba0614ea-6b98-406f-8dbc-d88d5e6fc0ba",
   "metadata": {},
   "outputs": [],
   "source": [
    "cv.widget.cad_width = 900\n",
    "cv.widget.tree_width = 300\n",
    "cv.widget.height = 700\n",
    "cv.widget.glass = True"
   ]
  },
  {
   "cell_type": "code",
   "execution_count": null,
   "id": "9000127b-1dba-4aca-8217-c83484cd0f54",
   "metadata": {},
   "outputs": [],
   "source": [
    "cv.widget.cad_width = 700\n",
    "cv.widget.tree_width = 250\n",
    "cv.widget.height = 525\n",
    "cv.widget.glass = False"
   ]
  },
  {
   "cell_type": "code",
   "execution_count": null,
   "id": "2ee1c71a-d486-4315-9cfb-103539fa0ec8",
   "metadata": {},
   "outputs": [],
   "source": [
    "close_sidecars()"
   ]
  },
  {
   "cell_type": "markdown",
   "id": "ceca8f0b-8b51-4748-b36a-72f358a2284a",
   "metadata": {},
   "source": [
    "## Widget interaction"
   ]
  },
  {
   "cell_type": "code",
   "execution_count": null,
   "id": "b7f205ad-ae13-4577-8461-b861352064cb",
   "metadata": {},
   "outputs": [],
   "source": [
    "cv = show(\n",
    "    objects[\"hexapod\"],\n",
    "    title=\"Examples\",\n",
    "    collapse=\"E\",\n",
    "    debug=True\n",
    ")"
   ]
  },
  {
   "cell_type": "code",
   "execution_count": null,
   "id": "032a0f61-2e70-4ab6-8f94-44495c41af2a",
   "metadata": {},
   "outputs": [],
   "source": [
    "cv.update_states({\n",
    "    '/hexapod/bottom': (1,0),\n",
    "    '/hexapod/top': [0,0],\n",
    "    '/hexapod/left_front_leg/upper_leg': [0,0],\n",
    "})"
   ]
  },
  {
   "cell_type": "code",
   "execution_count": null,
   "id": "5502d27e-17d3-4fb5-9fb0-5e603880c0ed",
   "metadata": {},
   "outputs": [],
   "source": [
    "cv.update_states({\n",
    "    '/hexapod/bottom': (1,1),\n",
    "    '/hexapod/top': [1,1],\n",
    "    '/hexapod/left_front_leg/upper_leg': [1,1],\n",
    "})"
   ]
  },
  {
   "cell_type": "code",
   "execution_count": null,
   "id": "af312ccb-a9c7-472a-8715-08ddc8bd02fb",
   "metadata": {},
   "outputs": [],
   "source": [
    "cv.widget.collapse = \"C\""
   ]
  },
  {
   "cell_type": "code",
   "execution_count": null,
   "id": "26f0daa6-9d4e-44ee-8f6a-c72b01a18296",
   "metadata": {},
   "outputs": [],
   "source": [
    "cv.widget.collapse = \"R\""
   ]
  },
  {
   "cell_type": "code",
   "execution_count": null,
   "id": "afd240a0-6477-4f81-8199-0516af466846",
   "metadata": {},
   "outputs": [],
   "source": [
    "cv.widget.collapse = \"E\""
   ]
  },
  {
   "cell_type": "code",
   "execution_count": null,
   "id": "ff0e2c83-413e-416f-b8e6-2f56a4203c96",
   "metadata": {},
   "outputs": [],
   "source": [
    "cv.widget.collapse = \"1\""
   ]
  },
  {
   "cell_type": "code",
   "execution_count": null,
   "id": "ab92c5c8-091e-4696-9dd9-d0034dada310",
   "metadata": {},
   "outputs": [],
   "source": [
    "cv.ambient_intensity = 1.2\n",
    "cv.direct_intensity = 1.5"
   ]
  },
  {
   "cell_type": "code",
   "execution_count": null,
   "id": "0576ffc8-4578-4b45-8649-ef44f110cca6",
   "metadata": {},
   "outputs": [],
   "source": [
    "cv.ambient_intensity = 0.5\n",
    "cv.direct_intensity = 0.3"
   ]
  },
  {
   "cell_type": "code",
   "execution_count": null,
   "id": "4273581f-adb9-4eb1-89f1-4cc3248c828a",
   "metadata": {},
   "outputs": [],
   "source": [
    "ec = cv.default_edgecolor"
   ]
  },
  {
   "cell_type": "code",
   "execution_count": null,
   "id": "ceda6296-2709-4f7c-ad32-55d3f316177d",
   "metadata": {},
   "outputs": [],
   "source": [
    "cv.default_edgecolor = \"#ff0000\""
   ]
  },
  {
   "cell_type": "code",
   "execution_count": null,
   "id": "4e5f659b-9543-4aae-8f9d-99a8d4abf597",
   "metadata": {},
   "outputs": [],
   "source": [
    "cv.default_edgecolor = ec"
   ]
  },
  {
   "cell_type": "code",
   "execution_count": null,
   "id": "83d2fa2a-3dc9-4cc3-b7ac-628e05c18c2f",
   "metadata": {},
   "outputs": [],
   "source": [
    "cv.grid = [not g for g in cv.widget.grid]"
   ]
  },
  {
   "cell_type": "code",
   "execution_count": null,
   "id": "26e92be6-06d4-442f-8007-f2c993e97b2e",
   "metadata": {},
   "outputs": [],
   "source": [
    "cv.axes = not cv.axes\n",
    "cv.axes0 = not cv.axes0\n",
    "cv.transparent = not cv.transparent\n",
    "cv.black_edges = not cv.black_edges"
   ]
  },
  {
   "cell_type": "code",
   "execution_count": null,
   "id": "cd49e3cc-c8dd-4a09-a54a-032169b1d906",
   "metadata": {},
   "outputs": [],
   "source": [
    "cv.tools = not cv.tools"
   ]
  },
  {
   "cell_type": "code",
   "execution_count": null,
   "id": "ed5ac81a-a329-4f5a-ab0a-f91ff6b6d9c9",
   "metadata": {},
   "outputs": [],
   "source": [
    "cv.ortho = not cv.ortho"
   ]
  },
  {
   "cell_type": "code",
   "execution_count": null,
   "id": "23ed8dbe-8293-4bde-a8ef-91484fe406a4",
   "metadata": {},
   "outputs": [],
   "source": [
    "cv.grid = [not g for g in cv.widget.grid]\n",
    "cv.axes = not cv.axes\n",
    "cv.axes0 = not cv.axes0\n",
    "cv.transparent = not cv.transparent\n",
    "cv.black_edges = not cv.black_edges\n",
    "cv.tools = not cv.tools\n",
    "cv.glass = not cv.glass\n",
    "cv.ortho = not cv.ortho"
   ]
  },
  {
   "cell_type": "code",
   "execution_count": null,
   "id": "5991d6e4-0609-41a7-9598-1459bc113806",
   "metadata": {},
   "outputs": [],
   "source": [
    "cv.glass = not cv.glass"
   ]
  },
  {
   "cell_type": "code",
   "execution_count": null,
   "id": "1135f786-8f67-40b1-9d37-07c7faaeda6f",
   "metadata": {},
   "outputs": [],
   "source": [
    "cv.zoom_speed = 5\n",
    "cv.pan_speed = 5\n",
    "cv.rotate_speed = 5"
   ]
  },
  {
   "cell_type": "code",
   "execution_count": null,
   "id": "982397ff-1c84-4dba-8e24-c17351da4e91",
   "metadata": {},
   "outputs": [],
   "source": [
    "cv.zoom_speed =1\n",
    "cv.pan_speed =1\n",
    "cv.rotate_speed =1"
   ]
  },
  {
   "cell_type": "code",
   "execution_count": null,
   "id": "acf94bf4-1830-427a-bd7d-1b1cff945951",
   "metadata": {},
   "outputs": [],
   "source": [
    "cv.last_pick"
   ]
  },
  {
   "cell_type": "markdown",
   "id": "874c1bb1-38ad-42ae-aef4-c1f62888d7c9",
   "metadata": {},
   "source": [
    "## Clipping handling"
   ]
  },
  {
   "cell_type": "code",
   "execution_count": null,
   "id": "2ca1f312-491c-44c8-a21c-45913e4784d7",
   "metadata": {},
   "outputs": [],
   "source": [
    "cv.select_clipping()"
   ]
  },
  {
   "cell_type": "code",
   "execution_count": null,
   "id": "db5ad755-39c3-42f8-a130-5d9528f7613f",
   "metadata": {},
   "outputs": [],
   "source": [
    "cv.clip_intersection = not cv.clip_intersection"
   ]
  },
  {
   "cell_type": "code",
   "execution_count": null,
   "id": "49a5e5ea-b0b9-4876-9620-b574cfe5d7a6",
   "metadata": {},
   "outputs": [],
   "source": [
    "cv.clip_planes = not cv.clip_planes"
   ]
  },
  {
   "cell_type": "code",
   "execution_count": null,
   "id": "e64fe54a-756d-4a67-931f-4bcc7c3f77ee",
   "metadata": {},
   "outputs": [],
   "source": [
    "cv.clip_value_0 = 10\n",
    "cv.clip_value_1 = -50\n",
    "cv.clip_value_2 = 40"
   ]
  },
  {
   "cell_type": "code",
   "execution_count": null,
   "id": "96ed0bf9-dcac-4b4a-bb74-0dac28fb9797",
   "metadata": {},
   "outputs": [],
   "source": [
    "cv.clip_normal_0"
   ]
  },
  {
   "cell_type": "code",
   "execution_count": null,
   "id": "02503b30-d19b-4890-ae71-b3782b15abb0",
   "metadata": {},
   "outputs": [],
   "source": [
    "cv.clip_value_2"
   ]
  },
  {
   "cell_type": "code",
   "execution_count": null,
   "id": "f96ca9e5-8313-4f15-a6b2-c61adf7330c8",
   "metadata": {},
   "outputs": [],
   "source": [
    "cv.clip_normal_0 = (-0.35, -0.35, -0.35)"
   ]
  },
  {
   "cell_type": "code",
   "execution_count": null,
   "id": "34a375de-e4a2-4f45-aa2d-bae55e98a456",
   "metadata": {},
   "outputs": [],
   "source": [
    "cv.clip_normal_0 = (-1, 0, 0)"
   ]
  },
  {
   "cell_type": "code",
   "execution_count": null,
   "id": "18ec7a77-835b-4a37-9b1d-0aed8f291770",
   "metadata": {},
   "outputs": [],
   "source": [
    "cv.select_tree()"
   ]
  },
  {
   "cell_type": "markdown",
   "id": "ddb9b01a-5938-4e3b-b945-240f5d09b8b3",
   "metadata": {},
   "source": [
    "# Rotations\n",
    "## Trackball Control"
   ]
  },
  {
   "cell_type": "code",
   "execution_count": null,
   "id": "223d7ddc-b040-49d2-9d36-98b2d35a0f02",
   "metadata": {},
   "outputs": [],
   "source": [
    "name = \"hexapod\"\n",
    "cv = show(\n",
    "    objects[name], \n",
    "    control=\"trackball\",\n",
    "    title=\"Examples\",\n",
    "    reset_camera=\"reset\",\n",
    "    glass=False\n",
    ")"
   ]
  },
  {
   "cell_type": "code",
   "execution_count": null,
   "id": "a3cda18f-d084-4e52-811a-345939cea802",
   "metadata": {},
   "outputs": [],
   "source": [
    "for i in range(10):\n",
    "    cv.rotate_x(1)\n",
    "    cv.rotate_y(3)\n",
    "    cv.rotate_z(5)\n",
    "    time.sleep(0.05)"
   ]
  },
  {
   "cell_type": "code",
   "execution_count": null,
   "id": "7f8f2a28-f30c-4e00-a550-bef49d9b2666",
   "metadata": {},
   "outputs": [],
   "source": [
    "for i in range(10):\n",
    "    cv.rotate_z(-5)\n",
    "    cv.rotate_y(-3)\n",
    "    cv.rotate_x(-1)\n",
    "    time.sleep(0.05)    "
   ]
  },
  {
   "cell_type": "markdown",
   "id": "fc1c9a13-8f31-4755-8dde-3c843ddfe13a",
   "metadata": {},
   "source": [
    "## Orbit control"
   ]
  },
  {
   "cell_type": "code",
   "execution_count": null,
   "id": "bfa5661a-7d91-4bf1-bf80-955e3f926c93",
   "metadata": {},
   "outputs": [],
   "source": [
    "name = \"hexapod\"\n",
    "cv = show(\n",
    "    objects[name], \n",
    "    control=\"orbit\",\n",
    "    title=\"Examples\",\n",
    "    reset_camera=\"reset\"\n",
    ")"
   ]
  },
  {
   "cell_type": "code",
   "execution_count": null,
   "id": "bc11d0ff-ff49-4d28-b4fd-a188b8550d03",
   "metadata": {},
   "outputs": [],
   "source": [
    "for i in range(10):\n",
    "    cv.rotate_up(3)\n",
    "    cv.rotate_left(1)\n",
    "    time.sleep(0.05)"
   ]
  },
  {
   "cell_type": "code",
   "execution_count": null,
   "id": "9204431d-d108-4505-938e-3f04c7b70399",
   "metadata": {},
   "outputs": [],
   "source": [
    "for i in range(10):\n",
    "    cv.rotate_left(-1)\n",
    "    cv.rotate_up(-3)\n",
    "    time.sleep(0.05)    "
   ]
  },
  {
   "cell_type": "code",
   "execution_count": null,
   "id": "b74a643c-c021-46ff-ab5c-27548a66cff3",
   "metadata": {},
   "outputs": [],
   "source": [
    "close_sidecars()"
   ]
  },
  {
   "cell_type": "markdown",
   "id": "65521ed7-512d-40d7-b4b0-0803604adf04",
   "metadata": {},
   "source": [
    "# Animation"
   ]
  },
  {
   "cell_type": "code",
   "execution_count": null,
   "id": "d7df563d-e026-4c1d-b865-22adc09cfba6",
   "metadata": {},
   "outputs": [],
   "source": [
    "name = \"hexapod\"\n",
    "cv = show(\n",
    "    objects[name],\n",
    "    title=\"Animation\",\n",
    "    height=600,\n",
    "    cad_width=800,\n",
    "    control=\"trackball\",\n",
    "    tools=True,\n",
    "\n",
    "    axes=True,\n",
    "    axes0=True,\n",
    "    grid=[True, False, False],\n",
    ")"
   ]
  },
  {
   "cell_type": "code",
   "execution_count": null,
   "id": "176fb700-592d-4bd5-adfb-0728e5dde472",
   "metadata": {},
   "outputs": [],
   "source": [
    "import numpy as np\n",
    "horizontal_angle = 25\n",
    "\n",
    "leg_names = {\n",
    "    \"right_back\", \"right_middle\", \"right_front\", \n",
    "    \"left_back\",  \"left_middle\", \"left_front\",\n",
    "    \n",
    "}\n",
    "\n",
    "def intervals(count):\n",
    "    r = [ min(180, (90 + i*(360 // count)) % 360) for i in range(count)]\n",
    "    return r \n",
    "\n",
    "def times(end, count):\n",
    "    return np.linspace(0, end, count+1).tolist()\n",
    "    \n",
    "def vertical(count, end, offset, reverse):\n",
    "    ints = intervals(count)\n",
    "    heights = [round(35 * np.sin(np.deg2rad(x)) - 15, 1) for x in ints]\n",
    "    heights.append(heights[0])\n",
    "    return times(end, count), heights[offset:] + heights[1:offset+1]\n",
    "\n",
    "def horizontal(end, reverse):\n",
    "    factor = 1 if reverse else -1\n",
    "    return times(end, 4), [0, factor * horizontal_angle, 0, -factor * horizontal_angle, 0]\n",
    "\n",
    "leg_group = (\"left_front\", \"right_middle\", \"left_back\")"
   ]
  },
  {
   "cell_type": "code",
   "execution_count": null,
   "id": "a3bd1c42-e2d8-46a5-ae2e-3701f326fa3b",
   "metadata": {},
   "outputs": [],
   "source": [
    "tracks = []\n",
    "\n",
    "for name in leg_names:\n",
    "    # move upper leg\n",
    "    cv.add_track(AnimationTrack(f\"/hexapod/{name}_leg\", \"rz\", *horizontal(4, \"middle\" in name)))\n",
    "\n",
    "cv.animate(3)\n",
    "cv.play()"
   ]
  },
  {
   "cell_type": "code",
   "execution_count": null,
   "id": "4412ef36-c26f-41fc-ac4e-bacf01010b26",
   "metadata": {},
   "outputs": [],
   "source": [
    "cv.stop()"
   ]
  },
  {
   "cell_type": "code",
   "execution_count": null,
   "id": "84324b37-905f-4f11-957a-2cf5c3134ca6",
   "metadata": {},
   "outputs": [],
   "source": [
    "for name in leg_names:\n",
    "    # move lower leg\n",
    "    cv.add_track(AnimationTrack(f\"/hexapod/{name}_leg/{name}_lower_leg\", \"rz\", *vertical(8, 4, 0 if name in leg_group else 4, \"left\" in name)))\n",
    "    \n",
    "cv.animate(2)\n",
    "cv.play()"
   ]
  },
  {
   "cell_type": "code",
   "execution_count": null,
   "id": "69ee5825-ec43-422d-903f-bed194c15aa6",
   "metadata": {},
   "outputs": [],
   "source": [
    "cv.clear_tracks()"
   ]
  },
  {
   "cell_type": "code",
   "execution_count": null,
   "id": "56a8f6ff-f27e-4b28-be21-16a5148cc636",
   "metadata": {},
   "outputs": [],
   "source": [
    "close_sidecars()"
   ]
  }
 ],
 "metadata": {
  "kernelspec": {
   "display_name": "Python 3 (ipykernel)",
   "language": "python",
   "name": "python3"
  },
  "language_info": {
   "codemirror_mode": {
    "name": "ipython",
    "version": 3
   },
   "file_extension": ".py",
   "mimetype": "text/x-python",
   "name": "python",
   "nbconvert_exporter": "python",
   "pygments_lexer": "ipython3",
   "version": "3.12.9"
  }
 },
 "nbformat": 4,
 "nbformat_minor": 5
}
